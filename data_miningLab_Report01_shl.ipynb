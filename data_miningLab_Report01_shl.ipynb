{
  "nbformat": 4,
  "nbformat_minor": 0,
  "metadata": {
    "colab": {
      "provenance": [],
      "include_colab_link": true
    },
    "kernelspec": {
      "name": "python3",
      "display_name": "Python 3"
    },
    "language_info": {
      "name": "python"
    }
  },
  "cells": [
    {
      "cell_type": "markdown",
      "metadata": {
        "id": "view-in-github",
        "colab_type": "text"
      },
      "source": [
        "<a href=\"https://colab.research.google.com/github/khshohelrana/Python_Data-Mining/blob/main/data_miningLab_Report01_shl.ipynb\" target=\"_parent\"><img src=\"https://colab.research.google.com/assets/colab-badge.svg\" alt=\"Open In Colab\"/></a>"
      ]
    },
    {
      "cell_type": "code",
      "execution_count": null,
      "metadata": {
        "colab": {
          "base_uri": "https://localhost:8080/"
        },
        "id": "NqgOxRuzuNGo",
        "outputId": "6afbdeb8-fd1e-416f-d28d-94553dbc2f38"
      },
      "outputs": [
        {
          "output_type": "stream",
          "name": "stdout",
          "text": [
            "Enter your first name: kh. shohel\n",
            "Enter your last name: rana\n",
            "Full name: kh. shohel rana\n"
          ]
        }
      ],
      "source": [
        "first_name = input(\"Enter your first name: \")\n",
        "last_name = input(\"Enter your last name: \")\n",
        "full_name = first_name + \" \" + last_name\n",
        "print(\"Full name:\", full_name)\n"
      ]
    },
    {
      "cell_type": "code",
      "source": [
        "n = input(\"Enter an integer: \")\n",
        "result = int(n) + int(n*2) + int(n*3)\n",
        "print(\"Result:\", result)"
      ],
      "metadata": {
        "colab": {
          "base_uri": "https://localhost:8080/"
        },
        "id": "yefAPx9N7LP_",
        "outputId": "689175ad-38de-4396-b16a-d73c97a837ce"
      },
      "execution_count": null,
      "outputs": [
        {
          "output_type": "stream",
          "name": "stdout",
          "text": [
            "Enter an integer: 13\n",
            "Result: 132639\n"
          ]
        }
      ]
    },
    {
      "cell_type": "code",
      "source": [
        "import math\n",
        "radius = float(input(\"Enter the radius of the circle: \"))\n",
        "area = math.pi * radius ** 2\n",
        "print(\"Area of the circle:\", area)"
      ],
      "metadata": {
        "colab": {
          "base_uri": "https://localhost:8080/"
        },
        "id": "hmryKmJu7Ocu",
        "outputId": "ec7f848c-3ec2-40b3-a8c5-31dc6917a84e"
      },
      "execution_count": null,
      "outputs": [
        {
          "output_type": "stream",
          "name": "stdout",
          "text": [
            "Enter the radius of the circle: 7\n",
            "Area of the circle: 153.93804002589985\n"
          ]
        }
      ]
    },
    {
      "cell_type": "code",
      "source": [
        "number = int(input(\"Enter a number: \"))\n",
        "if number % 2 == 0:\n",
        " print(\"The number is even.\")\n",
        "else:\n",
        " print(\"The number is odd.\")\n"
      ],
      "metadata": {
        "colab": {
          "base_uri": "https://localhost:8080/"
        },
        "id": "EljT-MHe7QME",
        "outputId": "a0f9d991-2840-4335-8e0c-1a9c62ce17a8"
      },
      "execution_count": null,
      "outputs": [
        {
          "output_type": "stream",
          "name": "stdout",
          "text": [
            "Enter a number: 24\n",
            "The number is even.\n"
          ]
        }
      ]
    },
    {
      "cell_type": "code",
      "source": [
        "numbers = input(\"Enter comma-separated numbers: \")\n",
        "number_list = numbers.split(\",\")\n",
        "print(\"List of numbers:\", number_list)\n"
      ],
      "metadata": {
        "colab": {
          "base_uri": "https://localhost:8080/"
        },
        "id": "ethhy0CT7Scu",
        "outputId": "1bed168f-622b-48d4-be28-670bc947934d"
      },
      "execution_count": null,
      "outputs": [
        {
          "output_type": "stream",
          "name": "stdout",
          "text": [
            "Enter comma-separated numbers: 1,2,3,4,5,6,7\n",
            "List of numbers: ['1', '2', '3', '4', '5', '6', '7']\n"
          ]
        }
      ]
    },
    {
      "cell_type": "code",
      "source": [
        "colorList = [\"Red\", \"Green\", \"White\", \"Black\"]\n",
        "print(\"First color:\", colorList[0])\n",
        "print(\"Last color:\", colorList[-1])"
      ],
      "metadata": {
        "colab": {
          "base_uri": "https://localhost:8080/"
        },
        "id": "vBsDWev37Vd_",
        "outputId": "ebc2f840-84d1-4811-bb46-078dad9d6060"
      },
      "execution_count": null,
      "outputs": [
        {
          "output_type": "stream",
          "name": "stdout",
          "text": [
            "First color: Red\n",
            "Last color: Black\n"
          ]
        }
      ]
    },
    {
      "cell_type": "code",
      "source": [
        "num1 = float(input(\"Enter first number: \"))\n",
        "num2 = float(input(\"Enter second number: \"))\n",
        "num3 = float(input(\"Enter third number: \"))\n",
        "largest = max(num1, num2, num3)\n",
        "print(\"The largest number is:\", largest)"
      ],
      "metadata": {
        "colab": {
          "base_uri": "https://localhost:8080/"
        },
        "id": "bZlKnh8n7XRY",
        "outputId": "f4543186-6ff2-4d43-e0d8-05593834a8b8"
      },
      "execution_count": null,
      "outputs": [
        {
          "output_type": "stream",
          "name": "stdout",
          "text": [
            "Enter first number: 12\n",
            "Enter second number: 11\n",
            "Enter third number: 14\n",
            "The largest number is: 14.0\n"
          ]
        }
      ]
    },
    {
      "cell_type": "code",
      "source": [
        "grades = {\"John\": \"A\", \"Jane\": \"B\", \"Doe\": \"C\"}\n",
        "for student, grade in grades.items():\n",
        " print(f\"{student}: {grade}\")"
      ],
      "metadata": {
        "colab": {
          "base_uri": "https://localhost:8080/"
        },
        "id": "1OBUYQSD7ZOp",
        "outputId": "c2bf0b40-5f17-4fad-db49-322668663058"
      },
      "execution_count": null,
      "outputs": [
        {
          "output_type": "stream",
          "name": "stdout",
          "text": [
            "John: A\n",
            "Jane: B\n",
            "Doe: C\n"
          ]
        }
      ]
    },
    {
      "cell_type": "code",
      "source": [
        "num1 = int(input(\"Enter first number: \"))\n",
        "num2 = int(input(\"Enter second number: \"))\n",
        "num3 = int(input(\"Enter third number: \"))\n",
        "if num1 == num2 == num3:\n",
        " result = 3 * (num1 + num2 + num3)\n",
        "else:\n",
        " result = num1 + num2 + num3\n",
        "print(\"Result:\", result)\n"
      ],
      "metadata": {
        "colab": {
          "base_uri": "https://localhost:8080/"
        },
        "id": "n0nimysy7iKM",
        "outputId": "1df902de-332b-411b-9b92-b777a39407d6"
      },
      "execution_count": null,
      "outputs": [
        {
          "output_type": "stream",
          "name": "stdout",
          "text": [
            "Enter first number: 22\n",
            "Enter second number: 23\n",
            "Enter third number: 24\n",
            "Result: 69\n"
          ]
        }
      ]
    },
    {
      "cell_type": "code",
      "source": [
        "numbers = [int(x) for x in input(\"Enter numbers separated by space: \").split()]\n",
        "sum_even = sum(x for x in numbers if x % 2 == 0)\n",
        "sum_odd = sum(x for x in numbers if x % 2 != 0)\n",
        "print(\"Sum of even numbers:\", sum_even)\n",
        "print(\"Sum of odd numbers:\", sum_odd)"
      ],
      "metadata": {
        "colab": {
          "base_uri": "https://localhost:8080/"
        },
        "id": "ymYhipKD7knY",
        "outputId": "7ff110ec-6844-41a0-9452-5e0eac447074"
      },
      "execution_count": null,
      "outputs": [
        {
          "output_type": "stream",
          "name": "stdout",
          "text": [
            "Enter numbers separated by space: 9 7 8 12 25 65 87 96 84\n",
            "Sum of even numbers: 200\n",
            "Sum of odd numbers: 193\n"
          ]
        }
      ]
    },
    {
      "cell_type": "code",
      "source": [
        "a = float(input(\"Enter first side: \"))\n",
        "b = float(input(\"Enter second side: \"))\n",
        "c = float(input(\"Enter third side: \"))\n",
        "if a + b > c and a + c > b and b + c > a:\n",
        " print(\"The triangle is valid.\")\n",
        "else:\n",
        " print(\"The triangle is not valid.\")"
      ],
      "metadata": {
        "colab": {
          "base_uri": "https://localhost:8080/"
        },
        "id": "8FioVDLB7ms9",
        "outputId": "b51b9893-119f-4a41-834b-2c552c2553a3"
      },
      "execution_count": null,
      "outputs": [
        {
          "output_type": "stream",
          "name": "stdout",
          "text": [
            "Enter first side: 14\n",
            "Enter second side: 11\n",
            "Enter third side: 17\n",
            "The triangle is valid.\n"
          ]
        }
      ]
    },
    {
      "cell_type": "code",
      "source": [
        "numbers = [int(x) for x in input(\"Enter numbers separated by space: \").split()]\n",
        "smallest = min(numbers)\n",
        "print(\"The smallest number is:\", smallest)"
      ],
      "metadata": {
        "colab": {
          "base_uri": "https://localhost:8080/"
        },
        "id": "CkQsiZUn7oY-",
        "outputId": "d124361b-76fb-42a1-a2a3-cf9903f4d3b1"
      },
      "execution_count": null,
      "outputs": [
        {
          "output_type": "stream",
          "name": "stdout",
          "text": [
            "Enter numbers separated by space: 1 6 9 8 15 45 63 52\n",
            "The smallest number is: 1\n"
          ]
        }
      ]
    },
    {
      "cell_type": "code",
      "source": [
        "result = sum(x for x in range(50, 101) if x % 3 == 0 and x % 5 != 0)\n",
        "print(\"Sum of numbers:\", result)"
      ],
      "metadata": {
        "colab": {
          "base_uri": "https://localhost:8080/"
        },
        "id": "pDqQsTGI7py0",
        "outputId": "f59f7b33-0b35-40cd-e0f9-bd23557b241c"
      },
      "execution_count": null,
      "outputs": [
        {
          "output_type": "stream",
          "name": "stdout",
          "text": [
            "Sum of numbers: 1050\n"
          ]
        }
      ]
    },
    {
      "cell_type": "code",
      "source": [
        "numbers = [int(x) for x in input(\"Enter numbers separated by space: \").split()]\n",
        "unique_numbers = list(set(numbers))\n",
        "unique_numbers.sort()\n",
        "second_highest = unique_numbers[-2]\n",
        "print(\"The second highest number is:\", second_highest)"
      ],
      "metadata": {
        "colab": {
          "base_uri": "https://localhost:8080/"
        },
        "id": "AL9YCQ6n7r8G",
        "outputId": "fd4e6514-b829-4d8b-cbf2-ba6782bb6ee4"
      },
      "execution_count": null,
      "outputs": [
        {
          "output_type": "stream",
          "name": "stdout",
          "text": [
            "Enter numbers separated by space: 25 6 32 41 12 57\n",
            "The second highest number is: 41\n"
          ]
        }
      ]
    },
    {
      "cell_type": "code",
      "source": [
        "num = int(input(\"Enter a number: \"))\n",
        "factorial = 1\n",
        "for i in range(1, num + 1):\n",
        " factorial *= i\n",
        "print(\"Factorial:\", factorial)"
      ],
      "metadata": {
        "colab": {
          "base_uri": "https://localhost:8080/"
        },
        "id": "40ntUKAk7t7G",
        "outputId": "04124e8a-2847-4941-b74e-82ace2c20e87"
      },
      "execution_count": null,
      "outputs": [
        {
          "output_type": "stream",
          "name": "stdout",
          "text": [
            "Enter a number: 58\n",
            "Factorial: 2350561331282878571829474910515074683828862318181142924420699914240000000000000\n"
          ]
        }
      ]
    },
    {
      "cell_type": "code",
      "source": [
        "n = int(input(\"Enter the number of terms: \"))\n",
        "a, b = 0, 1\n",
        "for _ in range(n):\n",
        " print(a, end=\" \")\n",
        " a, b = b, a + b\n"
      ],
      "metadata": {
        "colab": {
          "base_uri": "https://localhost:8080/"
        },
        "id": "N0fLpKlT7wNM",
        "outputId": "220a6314-046a-47e2-c77f-d3c13b7bce55"
      },
      "execution_count": null,
      "outputs": [
        {
          "output_type": "stream",
          "name": "stdout",
          "text": [
            "Enter the number of terms: 16\n",
            "0 1 1 2 3 5 8 13 21 34 55 89 144 233 377 610 "
          ]
        }
      ]
    },
    {
      "cell_type": "code",
      "source": [
        "def largest(num1, num2):\n",
        " return max(num1, num2)\n",
        "num1 = float(input(\"Enter first number: \"))\n",
        "num2 = float(input(\"Enter second number: \"))\n",
        "print(\"The largest number is:\", largest(num1, num2))"
      ],
      "metadata": {
        "colab": {
          "base_uri": "https://localhost:8080/"
        },
        "id": "wjTDFAik7z0H",
        "outputId": "7e547a1e-0479-4116-c3d2-966be9c49ee4"
      },
      "execution_count": null,
      "outputs": [
        {
          "output_type": "stream",
          "name": "stdout",
          "text": [
            "Enter first number: 11 \n",
            "Enter second number: 52\n",
            "The largest number is: 52.0\n"
          ]
        }
      ]
    },
    {
      "cell_type": "code",
      "source": [
        "def sum_numbers(*args):\n",
        " return sum(args)\n",
        "print(\"Sum:\", sum_numbers(1, 2, 3, 4, 5))"
      ],
      "metadata": {
        "colab": {
          "base_uri": "https://localhost:8080/"
        },
        "id": "Q4PbUhTs710b",
        "outputId": "d6eec75c-33ac-4d72-a26e-ad7ef140d082"
      },
      "execution_count": null,
      "outputs": [
        {
          "output_type": "stream",
          "name": "stdout",
          "text": [
            "Sum: 15\n"
          ]
        }
      ]
    },
    {
      "cell_type": "code",
      "source": [
        "def student(name, age, grade):\n",
        " student.name = name\n",
        " student.age = age\n",
        " student.grade = grade\n",
        "student(\"John\", 20, \"A\")\n",
        "print(\"Name:\", student.name)\n",
        "print(\"Age:\", student.age)\n",
        "print(\"Grade:\", student.grade)"
      ],
      "metadata": {
        "colab": {
          "base_uri": "https://localhost:8080/"
        },
        "id": "d_ihT1HO73l1",
        "outputId": "f182604e-531c-4eab-813b-9ff6888376c9"
      },
      "execution_count": null,
      "outputs": [
        {
          "output_type": "stream",
          "name": "stdout",
          "text": [
            "Name: John\n",
            "Age: 20\n",
            "Grade: A\n"
          ]
        }
      ]
    },
    {
      "cell_type": "code",
      "source": [
        "def studentId(student_id, name=None, student_class=None):\n",
        " print(\"Student ID:\", student_id)\n",
        " if name and student_class:\n",
        "  print(\"Name:\", name)\n",
        "  print(\"Class:\", student_class)\n",
        "studentId(12345)\n",
        "studentId(12345, \"John Doe\", \"10th Grade\")"
      ],
      "metadata": {
        "colab": {
          "base_uri": "https://localhost:8080/"
        },
        "id": "MSpKeiGG76BU",
        "outputId": "181353c7-f50d-41f5-a08c-e9cac88171b2"
      },
      "execution_count": null,
      "outputs": [
        {
          "output_type": "stream",
          "name": "stdout",
          "text": [
            "Student ID: 12345\n",
            "Student ID: 12345\n",
            "Name: John Doe\n",
            "Class: 10th Grade\n"
          ]
        }
      ]
    },
    {
      "cell_type": "code",
      "source": [
        "class Student:\n",
        " pass\n",
        "class Marks:\n",
        " pass\n",
        "student1 = Student()\n",
        "marks1 = Marks()\n",
        "print(isinstance(student1, Student)) # True\n",
        "print(isinstance(marks1, Marks)) # True\n",
        "print(issubclass(Student, object)) # True\n",
        "print(issubclass(Marks, object)) # True"
      ],
      "metadata": {
        "colab": {
          "base_uri": "https://localhost:8080/"
        },
        "id": "f_l9CM6678F8",
        "outputId": "e99e1eb7-04e0-43c0-dbaa-2cacd798112b"
      },
      "execution_count": null,
      "outputs": [
        {
          "output_type": "stream",
          "name": "stdout",
          "text": [
            "True\n",
            "True\n",
            "True\n",
            "True\n"
          ]
        }
      ]
    },
    {
      "cell_type": "code",
      "source": [
        "class Student:\n",
        " def __init__(self, studentName, marks):\n",
        "  self.studentName = studentName\n",
        "  self.marks = marks\n",
        "student = Student(\"John\", 85)\n",
        "print(\"Original values:\", student.studentName, student.marks)\n",
        "student.studentName = \"Jane\"\n",
        "student.marks = 90\n",
        "print(\"Modified values:\", student.studentName, student.marks)\n"
      ],
      "metadata": {
        "colab": {
          "base_uri": "https://localhost:8080/"
        },
        "id": "gStWRq357-Y9",
        "outputId": "b782015e-3c45-4fd9-eb0e-5fe23b97c1e8"
      },
      "execution_count": null,
      "outputs": [
        {
          "output_type": "stream",
          "name": "stdout",
          "text": [
            "Original values: John 85\n",
            "Modified values: Jane 90\n"
          ]
        }
      ]
    },
    {
      "cell_type": "code",
      "source": [
        "class Student:\n",
        " def __init__(self, studentId, studentName):\n",
        "  self.studentId = studentId\n",
        "  self.studentName = studentName\n",
        "student = Student(12345, \"John Doe\")"
      ],
      "metadata": {
        "id": "wWyfV_QY8Aem"
      },
      "execution_count": 1,
      "outputs": []
    }
  ]
}