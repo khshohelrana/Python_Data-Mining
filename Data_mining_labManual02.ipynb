{
  "nbformat": 4,
  "nbformat_minor": 0,
  "metadata": {
    "colab": {
      "provenance": [],
      "authorship_tag": "ABX9TyPtEjRYySbx6bVghSBYZSKn",
      "include_colab_link": true
    },
    "kernelspec": {
      "name": "python3",
      "display_name": "Python 3"
    },
    "language_info": {
      "name": "python"
    }
  },
  "cells": [
    {
      "cell_type": "markdown",
      "metadata": {
        "id": "view-in-github",
        "colab_type": "text"
      },
      "source": [
        "<a href=\"https://colab.research.google.com/github/khshohelrana/Python_Data-Mining/blob/main/Data_mining_labManual02.ipynb\" target=\"_parent\"><img src=\"https://colab.research.google.com/assets/colab-badge.svg\" alt=\"Open In Colab\"/></a>"
      ]
    },
    {
      "cell_type": "code",
      "execution_count": null,
      "metadata": {
        "colab": {
          "base_uri": "https://localhost:8080/"
        },
        "id": "-zfPxtZnxqK5",
        "outputId": "2fb08d31-c69f-4350-f946-4f74d03cd42e"
      },
      "outputs": [
        {
          "output_type": "stream",
          "name": "stdout",
          "text": [
            "0\n",
            "1\n",
            "2\n",
            "3\n",
            "4\n",
            "2\n",
            "3\n",
            "4\n",
            "2\n",
            "5\n",
            "8\n",
            "11\n",
            "14\n",
            "17\n",
            "0\n",
            "1\n",
            "2\n",
            "3\n",
            "4\n",
            "Finally finished!\n",
            "orange\n",
            "apple\n",
            "cherry\n",
            "o\n",
            "r\n",
            "a\n",
            "n\n",
            "g\n",
            "e\n",
            "orange\n",
            "apple\n"
          ]
        }
      ],
      "source": [
        "# range(5) is not the values of 0 to 5, but the values 0 to 4.\n",
        "for i in range(5):\n",
        "  print(i)\n",
        "\n",
        "\n",
        "\n",
        " # range(2, 5), which means values from 2 to 5 (but not including 5)\n",
        "for i in range(2, 5):\n",
        "  print(i)\n",
        "\n",
        " # Increment the sequence with 3 (default is 1):\n",
        "for i in range(2, 20, 3):\n",
        "  print(i)\n",
        "\n",
        "# Here, else keyword indicates a block of code to be executed when the loop is finished:\n",
        "for i in range(5):\n",
        "  print(i)\n",
        "else:\n",
        "  print(\"Finally finished!\")\n",
        "\n",
        "fruits = [\"orange\", \"apple\", \"cherry\"]\n",
        "for i in fruits:\n",
        "  print(i)\n",
        "\n",
        " # Loop through the letters in the word \"orange\":\n",
        "\n",
        "for i in \"orange\":\n",
        "  print(i)\n",
        " # Loop through the letters in the word \"orange\":\n",
        "\n",
        "fruits = [\"orange\", \"apple\", \"cherry\"]\n",
        "for i in fruits:\n",
        "  print(i)\n",
        "  if i == \"apple\":\n",
        "   break"
      ]
    },
    {
      "cell_type": "code",
      "source": [
        "i = 1\n",
        "while i < 5:\n",
        " print(i)\n",
        " i += 1\n",
        "i = 1\n",
        "while i < 5:\n",
        " print(i)\n",
        " if i == 2:\n",
        "  break\n",
        " i += 1\n",
        "\n",
        "i = 0\n",
        "while i < 5:\n",
        " i += 1\n",
        " if i == 2:\n",
        "  continue\n",
        " print(i)\n",
        "\n",
        "i = 1\n",
        "while i < 5:\n",
        " print(i)\n",
        " i += 1\n",
        "else:\n",
        " print(\"i is no longer less than 5\")"
      ],
      "metadata": {
        "colab": {
          "base_uri": "https://localhost:8080/"
        },
        "id": "WxekyYIkzn5v",
        "outputId": "9f11c221-7a14-4b1a-d8a5-14b31d1c690e"
      },
      "execution_count": null,
      "outputs": [
        {
          "output_type": "stream",
          "name": "stdout",
          "text": [
            "1\n",
            "2\n",
            "3\n",
            "4\n",
            "1\n",
            "2\n",
            "1\n",
            "3\n",
            "4\n",
            "5\n",
            "1\n",
            "2\n",
            "3\n",
            "4\n",
            "i is no longer less than 5\n"
          ]
        }
      ]
    },
    {
      "cell_type": "code",
      "source": [
        "def my_function():\n",
        "  print(\"Hello World\")\n",
        "\n",
        "my_function() # Calling my_function()\n",
        "\n",
        " # Passing Argument\n",
        "def my_function(name):\n",
        "  print(\"name \" + name)\n",
        "\n",
        "my_function(\"Mike\")\n",
        "my_function(\"Monica\")\n",
        "my_function(\"John\")\n",
        " # Passing multiple Arguments\n",
        "def my_function(fname, lname):\n",
        "  print(fname + \" \" + lname)\n",
        "\n",
        "my_function(\"Emil\", \"Refsnes\")\n",
        "\n",
        " # Arbitrary Arguments, *args\n",
        "def my_function(*names):\n",
        " print(\"Name= \" + names[2])\n",
        "\n",
        "my_function(\"Mike\", \"Monica\", \"John\")\n",
        "\n",
        " # Send arguments with the key = value syntax.\n",
        "def my_function(name3, name2, name1):\n",
        " print(\"Name= \" + name3)\n",
        "\n",
        "my_function(name1 = \"Mike\", name2 = \"Monica\", name3 = \"John\")\n",
        "\n",
        "def my_function(**name):\n",
        " print(\"His last name is \" + name[\"lname\"])\n",
        "\n",
        "my_function(fname = \"Mike\", lname = \"Monica\")\n",
        "# Passing a List as an Argument\n",
        "def my_function(food):\n",
        " for i in food:\n",
        "  print(i)\n",
        "\n",
        "fruits = [\"orange\", \"apple\", \"cherry\"]\n",
        "\n",
        "my_function(fruits)\n",
        " # Return Values\n",
        "def my_function(a):\n",
        " return 5 * a\n",
        "\n",
        "print(my_function(3))\n",
        "print(my_function(5))\n",
        "print(my_function(9))\n",
        "\n",
        " # Recursion Example\n",
        "def my_recursion(k):\n",
        " if(k > 0):\n",
        "  result = k + my_recursion(k - 1)\n",
        "  print(result)\n",
        " else:\n",
        "  result = 0\n",
        " return result\n",
        "\n",
        "print(\"\\n\\nRecursion Example Results\")\n",
        "my_recursion(6)"
      ],
      "metadata": {
        "colab": {
          "base_uri": "https://localhost:8080/"
        },
        "id": "Ny0Iqq_81WyR",
        "outputId": "bf298869-d310-4413-86d6-65461d10a84d"
      },
      "execution_count": null,
      "outputs": [
        {
          "output_type": "stream",
          "name": "stdout",
          "text": [
            "Hello World\n",
            "name Mike\n",
            "name Monica\n",
            "name John\n",
            "Emil Refsnes\n",
            "Name= John\n",
            "Name= John\n",
            "His last name is Monica\n",
            "orange\n",
            "apple\n",
            "cherry\n",
            "15\n",
            "25\n",
            "45\n",
            "\n",
            "\n",
            "Recursion Example Results\n",
            "1\n",
            "3\n",
            "6\n",
            "10\n",
            "15\n",
            "21\n"
          ]
        },
        {
          "output_type": "execute_result",
          "data": {
            "text/plain": [
              "21"
            ]
          },
          "metadata": {},
          "execution_count": 12
        }
      ]
    },
    {
      "cell_type": "code",
      "source": [
        "class MyClass:\n",
        " a = 5\n",
        "\n",
        "p1 = MyClass()\n",
        "print(p1.a)"
      ],
      "metadata": {
        "colab": {
          "base_uri": "https://localhost:8080/"
        },
        "id": "BoIgJJJF3KR3",
        "outputId": "d5467f4c-3719-4843-c7e2-6cb02e459239"
      },
      "execution_count": null,
      "outputs": [
        {
          "output_type": "stream",
          "name": "stdout",
          "text": [
            "5\n"
          ]
        }
      ]
    },
    {
      "cell_type": "code",
      "source": [
        "class Employee:\n",
        " def __init__(self, name, age):\n",
        "  self.name = name\n",
        "  self.age = age\n",
        "\n",
        "e1 = Employee(\"John\", 26)\n",
        "\n",
        "print(e1.name)\n",
        "print(e1.age)"
      ],
      "metadata": {
        "colab": {
          "base_uri": "https://localhost:8080/"
        },
        "id": "P7ze_3Fy3PJr",
        "outputId": "20ad6798-5fe6-4e88-db12-6bc4c8bb1237"
      },
      "execution_count": null,
      "outputs": [
        {
          "output_type": "stream",
          "name": "stdout",
          "text": [
            "John\n",
            "26\n"
          ]
        }
      ]
    },
    {
      "cell_type": "code",
      "source": [
        "class Employee:\n",
        " def __init__(self, name, age):\n",
        "  self.name = name\n",
        "  self.age = age\n",
        "\n",
        "\n",
        " def myfunc(self):\n",
        "  print(\"Hello my name is \" + self.name)\n",
        "e1 = Employee(\"John\", 26)\n",
        "e1.myfunc()\n",
        "class Employee:\n",
        "  def __init__(myObject, name, age):\n",
        "   myObject.name = name\n",
        "   myObject.age = age\n",
        "\n",
        "  def myfunc(xy):\n",
        "   print(\"Hello my name is \" + xy.name)\n",
        "\n",
        "\n",
        "e1 = Employee(\"John\", 26)\n",
        "e1.myfunc()"
      ],
      "metadata": {
        "colab": {
          "base_uri": "https://localhost:8080/"
        },
        "id": "y_7na3Ji3dKO",
        "outputId": "9e394c3f-84dc-45e1-ee19-9ecf4eae29d5"
      },
      "execution_count": null,
      "outputs": [
        {
          "output_type": "stream",
          "name": "stdout",
          "text": [
            "Hello my name is John\n",
            "Hello my name is John\n"
          ]
        }
      ]
    },
    {
      "cell_type": "code",
      "source": [
        "# Modify Object Properties\n",
        "class Employee:\n",
        " def __init__(self, name, age):\n",
        "  self.name = name\n",
        "  self.age = age\n",
        "\n",
        " def myfunc(self):\n",
        "   print(\"Hello my name is \" + self.name)\n",
        "\n",
        "\n",
        "e1 = Employee(\"John\", 26)\n",
        "e1.age = 30\n",
        "print(e1.age)\n",
        " # Delete Object Properties\n",
        "class Employee:\n",
        " def __init__(myObject, name, age):\n",
        "  myObject.name = name\n",
        "  myObject.age = age\n",
        "\n",
        " def myfunc(xy):\n",
        "  print(\"Hello my name is \" + xy.name)\n",
        "\n",
        "\n",
        "\n",
        "e1 = Employee(\"John\", 26)\n",
        "del e1.age\n",
        "print(e1.age)"
      ],
      "metadata": {
        "id": "ZOCMfV2W3_pl"
      },
      "execution_count": null,
      "outputs": []
    }
  ]
}