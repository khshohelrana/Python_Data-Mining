{
  "nbformat": 4,
  "nbformat_minor": 0,
  "metadata": {
    "colab": {
      "provenance": [],
      "authorship_tag": "ABX9TyMsOViwimB4OM4JayYdeVhf",
      "include_colab_link": true
    },
    "kernelspec": {
      "name": "python3",
      "display_name": "Python 3"
    },
    "language_info": {
      "name": "python"
    }
  },
  "cells": [
    {
      "cell_type": "markdown",
      "metadata": {
        "id": "view-in-github",
        "colab_type": "text"
      },
      "source": [
        "<a href=\"https://colab.research.google.com/github/khshohelrana/Python_Data-Mining/blob/main/Data_mining_2ndReport.ipynb\" target=\"_parent\"><img src=\"https://colab.research.google.com/assets/colab-badge.svg\" alt=\"Open In Colab\"/></a>"
      ]
    },
    {
      "cell_type": "code",
      "execution_count": null,
      "metadata": {
        "id": "isOyqgmThT0k"
      },
      "outputs": [],
      "source": [
        "import pandas as pd\n",
        "import numpy as np\n",
        "import seaborn as sns\n",
        "import matplotlib.pyplot as plt\n",
        "\n",
        "# Load the dataset\n",
        "file_path = '/kaggle/input/data-processing/melb_data.csv'\n",
        "df = pd.read_csv(file_path)\n",
        "\n",
        "#Data Exploration\n",
        "print(\"First 5 rows of the dataset:\")\n",
        "print(df.head())\n",
        "\n",
        "print(\"\\nDataset Info:\")\n",
        "df.info()\n",
        "\n",
        "print(\"\\nSummary Statistics:\")\n",
        "print(df.describe())\n",
        "\n",
        "#Identifying missing values\n",
        "print(\"\\nMissing values in each column:\")\n",
        "missing_values = df.isnull().sum()\n",
        "missing_values = missing_values[missing_values > 0].sort_values(ascending=False)\n",
        "print(missing_values)\n",
        "\n",
        "# Handling NULL values\n",
        "df['BuildingArea'].fillna(df['BuildingArea'].median(), inplace=True)\n",
        "\n",
        "df['YearBuilt'].fillna(df['YearBuilt'].mode()[0], inplace=True)\n",
        "\n",
        "df['CouncilArea'].fillna(df['CouncilArea'].mode()[0], inplace=True)\n",
        "\n",
        "df['Car'].fillna(df['Car'].median(), inplace=True)\n",
        "\n",
        "print(\"\\nMissing values after imputation:\")\n",
        "print(df.isnull().sum())\n",
        "\n",
        "#Detecting and handling outliers using the IQR method\n",
        "Q1_price = df['Price'].quantile(0.25)\n",
        "Q3_price = df['Price'].quantile(0.75)\n",
        "IQR_price = Q3_price - Q1_price\n",
        "\n",
        "Q1_building = df['BuildingArea'].quantile(0.25)\n",
        "Q3_building = df['BuildingArea'].quantile(0.75)\n",
        "IQR_building = Q3_building - Q1_building\n",
        "\n",
        "price_outliers = df[(df['Price'] < (Q1_price - 1.5 * IQR_price)) | (df['Price'] > (Q3_price + 1.5 * IQR_price))]\n",
        "building_outliers = df[(df['BuildingArea'] < (Q1_building - 1.5 * IQR_building)) | (df['BuildingArea'] > (Q3_building + 1.5 * IQR_building))]\n",
        "\n",
        "print(f\"\\nNumber of Price outliers: {len(price_outliers)}\")\n",
        "print(f\"Number of BuildingArea outliers: {len(building_outliers)}\")\n",
        "\n",
        "# Remove outliers from the original dataset\n",
        "df_cleaned = df[~((df['Price'] < (Q1_price - 1.5 * IQR_price)) | (df['Price'] > (Q3_price + 1.5 * IQR_price)))]\n",
        "df_cleaned = df_cleaned[~((df_cleaned['BuildingArea'] < (Q1_building - 1.5 * IQR_building)) | (df_cleaned['BuildingArea'] > (Q3_building + 1.5 * IQR_building)))]\n",
        "\n",
        "#Checking for duplicates and removing them\n",
        "print(\"\\nNumber of duplicate rows before removal:\", df_cleaned.duplicated().sum())\n",
        "df_cleaned = df_cleaned.drop_duplicates()\n",
        "print(\"Number of duplicate rows after removal:\", df_cleaned.duplicated().sum())\n",
        "\n",
        "#Visualizing missing values (if any) after processing\n",
        "sns.heatmap(df_cleaned.isnull(), cbar=False, cmap='viridis')\n",
        "plt.title(\"Missing Values Heatmap (After Processing)\")\n",
        "plt.show()\n",
        "\n",
        "#Final dataset overview\n",
        "print(\"\\nFinal Cleaned Dataset Shape:\", df_cleaned.shape)\n",
        "print(\"\\nFirst 5 rows of the cleaned dataset:\")\n",
        "print(df_cleaned.head())"
      ]
    }
  ]
}